{
 "cells": [
  {
   "cell_type": "markdown",
   "metadata": {
    "collapsed": true
   },
   "source": [
    "This is my first Python project using the Jupyter notebook, to also get an introduction to text mining and NLP processing. I followed the DataCamp course https://www.datacamp.com/courses/natural-language-processing-fundamentals-in-python for the NLP steps. This project however uses a different and larger dataset, ABC million news headlines, to the datasets used in the course, to get an understanding of the end to end process.\n",
    "\n",
    "The objectives are to learn how to :\n",
    " - download and import packages using pip\n",
    " - get familiar with some of the commonly used Python packages\n",
    " - import a csv file using pandas\n",
    " - perform initial data summaries\n",
    " - manipulate data from dataframe to a list\n",
    " - clean text data using simple preprocessing methods including word tokenisation using nltk\n",
    " - visualise a histogram plot using pandas and matplotlib\n",
    " - use basic NLP methods topic modeling and named entity recognition using spaCy\n",
    " - visualise the text in a wordcloud"
   ]
  },
  {
   "cell_type": "code",
   "execution_count": 2,
   "metadata": {},
   "outputs": [
    {
     "name": "stderr",
     "output_type": "stream",
     "text": [
      "C:\\Users\\Home\\Anaconda3\\lib\\site-packages\\gensim\\utils.py:1197: UserWarning: detected Windows; aliasing chunkize to chunkize_serial\n",
      "  warnings.warn(\"detected Windows; aliasing chunkize to chunkize_serial\")\n"
     ]
    }
   ],
   "source": [
    "# Import packages and modules\n",
    "import numpy as np\n",
    "import pandas as pd\n",
    "from collections import Counter\n",
    "\n",
    "import nltk\n",
    "# nltk.download('punkt') # Install the punkt tokenizer one time. This gave an error on first run\n",
    "# nltk.download('maxent_treebank_pos_tagger') # Install Treebank part of speech tagger. This gave error on first run\n",
    "# nltk.download('averaged_perceptron_tagger') # Install tagger. This gave error on first run\n",
    "# nltk.download(\"stopwords\") # Install the stopwords one time.\n",
    "from nltk.corpus import stopwords \n",
    "# !{sys.executable} -m pip install stop_words # Install the stop_words \n",
    "from stop_words import get_stop_words\n",
    "\n",
    "from collections import Counter\n",
    "\n",
    "# import sys # Use Sys to install gensim\n",
    "# !{sys.executable} -m pip install gensim\n",
    "from gensim.models.tfidfmodel import TfidfModel\n",
    "from gensim.corpora.dictionary import Dictionary\n",
    "\n",
    "# !pip install --upgrade setuptools\n",
    "# !pip install Twisted-18.4.0-cp36-cp36m-win_amd64.whl\n",
    "# import sys # Use Sys to install spaCy\n",
    "# !{sys.executable} -m pip install spaCy\n",
    "# !pip install -U spacy && python -m spacy download en\n",
    "from spacy import displacy\n",
    "import en_core_web_sm # the linking to 'en' failed so importing full model\n",
    "import spacy\n",
    "\n",
    "from matplotlib  import pyplot as plt\n",
    "\n",
    "# import sys # Use Sys to install wordcloud\n",
    "# !{sys.executable} -m pip install wordcloud\n",
    "from wordcloud import WordCloud"
   ]
  },
  {
   "cell_type": "markdown",
   "metadata": {
    "collapsed": true
   },
   "source": [
    "Import Data"
   ]
  },
  {
   "cell_type": "code",
   "execution_count": 4,
   "metadata": {},
   "outputs": [
    {
     "data": {
      "text/plain": [
       "'C:\\\\Users\\\\Home'"
      ]
     },
     "execution_count": 4,
     "metadata": {},
     "output_type": "execute_result"
    }
   ],
   "source": [
    "# Check the working directory and set to the local directory with the csv file\n",
    "import os\n",
    "os.getcwd()"
   ]
  },
  {
   "cell_type": "code",
   "execution_count": 5,
   "metadata": {
    "collapsed": true
   },
   "outputs": [],
   "source": [
    "os.chdir('C:\\\\Users\\\\Home\\\\Documents\\\\Python')"
   ]
  },
  {
   "cell_type": "code",
   "execution_count": 6,
   "metadata": {
    "collapsed": true
   },
   "outputs": [],
   "source": [
    "# The dataset is the ABC million news headlines in https://www.kaggle.com/therohk/million-headlines\n",
    "# Read in the csv file abcnews-date-text.csv using Pandas and parsing the date column\n",
    "path = 'abcnews-date-text.csv'\n",
    "abc = pd.read_csv(path, parse_dates=[0], infer_datetime_format=True)"
   ]
  },
  {
   "cell_type": "markdown",
   "metadata": {
    "collapsed": true
   },
   "source": [
    "Data Summary"
   ]
  },
  {
   "cell_type": "code",
   "execution_count": 9,
   "metadata": {},
   "outputs": [
    {
     "name": "stdout",
     "output_type": "stream",
     "text": [
      "<class 'pandas.core.frame.DataFrame'>\n",
      "RangeIndex: 1103665 entries, 0 to 1103664\n",
      "Data columns (total 2 columns):\n",
      "publish_date     1103665 non-null datetime64[ns]\n",
      "headline_text    1103665 non-null object\n",
      "dtypes: datetime64[ns](1), object(1)\n",
      "memory usage: 16.8+ MB\n"
     ]
    }
   ],
   "source": [
    "# Let's take a look at summaries of the abc pandas DataFrame\n",
    "abc.info()"
   ]
  },
  {
   "cell_type": "code",
   "execution_count": 10,
   "metadata": {},
   "outputs": [
    {
     "data": {
      "text/html": [
       "<div>\n",
       "<style scoped>\n",
       "    .dataframe tbody tr th:only-of-type {\n",
       "        vertical-align: middle;\n",
       "    }\n",
       "\n",
       "    .dataframe tbody tr th {\n",
       "        vertical-align: top;\n",
       "    }\n",
       "\n",
       "    .dataframe thead th {\n",
       "        text-align: right;\n",
       "    }\n",
       "</style>\n",
       "<table border=\"1\" class=\"dataframe\">\n",
       "  <thead>\n",
       "    <tr style=\"text-align: right;\">\n",
       "      <th></th>\n",
       "      <th>publish_date</th>\n",
       "      <th>headline_text</th>\n",
       "    </tr>\n",
       "  </thead>\n",
       "  <tbody>\n",
       "    <tr>\n",
       "      <th>0</th>\n",
       "      <td>2003-02-19</td>\n",
       "      <td>aba decides against community broadcasting lic...</td>\n",
       "    </tr>\n",
       "    <tr>\n",
       "      <th>1</th>\n",
       "      <td>2003-02-19</td>\n",
       "      <td>act fire witnesses must be aware of defamation</td>\n",
       "    </tr>\n",
       "    <tr>\n",
       "      <th>2</th>\n",
       "      <td>2003-02-19</td>\n",
       "      <td>a g calls for infrastructure protection summit</td>\n",
       "    </tr>\n",
       "    <tr>\n",
       "      <th>3</th>\n",
       "      <td>2003-02-19</td>\n",
       "      <td>air nz staff in aust strike for pay rise</td>\n",
       "    </tr>\n",
       "    <tr>\n",
       "      <th>4</th>\n",
       "      <td>2003-02-19</td>\n",
       "      <td>air nz strike to affect australian travellers</td>\n",
       "    </tr>\n",
       "  </tbody>\n",
       "</table>\n",
       "</div>"
      ],
      "text/plain": [
       "  publish_date                                      headline_text\n",
       "0   2003-02-19  aba decides against community broadcasting lic...\n",
       "1   2003-02-19     act fire witnesses must be aware of defamation\n",
       "2   2003-02-19     a g calls for infrastructure protection summit\n",
       "3   2003-02-19           air nz staff in aust strike for pay rise\n",
       "4   2003-02-19      air nz strike to affect australian travellers"
      ]
     },
     "execution_count": 10,
     "metadata": {},
     "output_type": "execute_result"
    }
   ],
   "source": [
    "abc.head()"
   ]
  },
  {
   "cell_type": "code",
   "execution_count": 11,
   "metadata": {},
   "outputs": [
    {
     "data": {
      "text/plain": [
       "1103665"
      ]
     },
     "execution_count": 11,
     "metadata": {},
     "output_type": "execute_result"
    }
   ],
   "source": [
    "len(abc)"
   ]
  },
  {
   "cell_type": "markdown",
   "metadata": {
    "collapsed": true
   },
   "source": [
    "Slice Data"
   ]
  },
  {
   "cell_type": "code",
   "execution_count": 13,
   "metadata": {
    "collapsed": true
   },
   "outputs": [],
   "source": [
    "# Create a string vector with just the values from the  headline_text column\n",
    "abctext= abc.loc[:,'headline_text'].values"
   ]
  },
  {
   "cell_type": "code",
   "execution_count": 14,
   "metadata": {},
   "outputs": [
    {
     "data": {
      "text/plain": [
       "numpy.ndarray"
      ]
     },
     "execution_count": 14,
     "metadata": {},
     "output_type": "execute_result"
    }
   ],
   "source": [
    "# Check the class of the new string vector\n",
    "type(abctext)"
   ]
  },
  {
   "cell_type": "code",
   "execution_count": 15,
   "metadata": {},
   "outputs": [
    {
     "data": {
      "text/plain": [
       "1103665"
      ]
     },
     "execution_count": 15,
     "metadata": {},
     "output_type": "execute_result"
    }
   ],
   "source": [
    "len(abctext)"
   ]
  },
  {
   "cell_type": "code",
   "execution_count": 16,
   "metadata": {},
   "outputs": [
    {
     "name": "stdout",
     "output_type": "stream",
     "text": [
      "['aba decides against community broadcasting licence'\n",
      " 'act fire witnesses must be aware of defamation'\n",
      " 'a g calls for infrastructure protection summit'\n",
      " 'air nz staff in aust strike for pay rise'\n",
      " 'air nz strike to affect australian travellers'\n",
      " 'ambitious olsson wins triple jump'\n",
      " 'antic delighted with record breaking barca'\n",
      " 'aussie qualifier stosur wastes four memphis match'\n",
      " 'aust addresses un security council over iraq'\n",
      " 'australia is locked into war timetable opp']\n"
     ]
    }
   ],
   "source": [
    "# Let's take a look at the abctext to check that the indices have been removed. We use the print function on this one dimensional array\n",
    "print(abctext[:10])"
   ]
  },
  {
   "cell_type": "markdown",
   "metadata": {
    "collapsed": true
   },
   "source": [
    "Text Preprocessing - Word Tokenization"
   ]
  },
  {
   "cell_type": "code",
   "execution_count": 18,
   "metadata": {
    "collapsed": true
   },
   "outputs": [],
   "source": [
    "# Create a list unique word tokens for each string in the list abctext, using word_tokenize from nltk. \n",
    "# We iterate over each sentence using list comprehension\n",
    "from nltk.tokenize import word_tokenize\n",
    "abc_tokens = [word_tokenize(sentence) for sentence in abctext]"
   ]
  },
  {
   "cell_type": "code",
   "execution_count": 19,
   "metadata": {},
   "outputs": [
    {
     "data": {
      "text/plain": [
       "1103665"
      ]
     },
     "execution_count": 19,
     "metadata": {},
     "output_type": "execute_result"
    }
   ],
   "source": [
    "# Take a look a the length of the list and check this is the same length as the imported file\n",
    "len(abc_tokens)"
   ]
  },
  {
   "cell_type": "code",
   "execution_count": 20,
   "metadata": {},
   "outputs": [
    {
     "data": {
      "text/plain": [
       "[['aba', 'decides', 'against', 'community', 'broadcasting', 'licence'],\n",
       " ['act', 'fire', 'witnesses', 'must', 'be', 'aware', 'of', 'defamation'],\n",
       " ['a', 'g', 'calls', 'for', 'infrastructure', 'protection', 'summit'],\n",
       " ['air', 'nz', 'staff', 'in', 'aust', 'strike', 'for', 'pay', 'rise'],\n",
       " ['air', 'nz', 'strike', 'to', 'affect', 'australian', 'travellers'],\n",
       " ['ambitious', 'olsson', 'wins', 'triple', 'jump'],\n",
       " ['antic', 'delighted', 'with', 'record', 'breaking', 'barca'],\n",
       " ['aussie', 'qualifier', 'stosur', 'wastes', 'four', 'memphis', 'match'],\n",
       " ['aust', 'addresses', 'un', 'security', 'council', 'over', 'iraq'],\n",
       " ['australia', 'is', 'locked', 'into', 'war', 'timetable', 'opp']]"
      ]
     },
     "execution_count": 20,
     "metadata": {},
     "output_type": "execute_result"
    }
   ],
   "source": [
    "# Take a look at the top 10 contents of the abc_tokens\n",
    "abc_tokens[:10]"
   ]
  },
  {
   "cell_type": "markdown",
   "metadata": {
    "collapsed": true
   },
   "source": [
    "Text Preprocessing - Remove Stop Words"
   ]
  },
  {
   "cell_type": "code",
   "execution_count": 22,
   "metadata": {
    "collapsed": true
   },
   "outputs": [],
   "source": [
    "# Get lists of stop words and remove the stop words from the list of word tokens\n",
    "stop_words = list(get_stop_words('en'))         #About 900 stopwords\n",
    "nltk_words = list(stopwords.words('english')) #About 150 stopwords\n",
    "stop_words.extend(stop_words)"
   ]
  },
  {
   "cell_type": "code",
   "execution_count": 23,
   "metadata": {},
   "outputs": [
    {
     "data": {
      "text/plain": [
       "['a', 'about', 'above', 'after', 'again', 'against', 'all', 'am', 'an', 'and']"
      ]
     },
     "execution_count": 23,
     "metadata": {},
     "output_type": "execute_result"
    }
   ],
   "source": [
    "stop_words[:10]"
   ]
  },
  {
   "cell_type": "code",
   "execution_count": 24,
   "metadata": {
    "collapsed": true
   },
   "outputs": [],
   "source": [
    "# Convert the nested list into a single sequence of tokens using itertools.chain\n",
    "from itertools import chain\n",
    "abc_tokens_list = list(chain(*abc_tokens))"
   ]
  },
  {
   "cell_type": "code",
   "execution_count": 25,
   "metadata": {
    "collapsed": true
   },
   "outputs": [],
   "source": [
    "# Remove the stop words from this list using a for loop\n",
    "abc_tokens_no_stopwords = [token for token in abc_tokens_list\n",
    "                           if token not in stop_words ]"
   ]
  },
  {
   "cell_type": "code",
   "execution_count": 26,
   "metadata": {},
   "outputs": [
    {
     "data": {
      "text/plain": [
       "['aba',\n",
       " 'decides',\n",
       " 'community',\n",
       " 'broadcasting',\n",
       " 'licence',\n",
       " 'act',\n",
       " 'fire',\n",
       " 'witnesses',\n",
       " 'must',\n",
       " 'aware',\n",
       " 'defamation',\n",
       " 'g',\n",
       " 'calls',\n",
       " 'infrastructure',\n",
       " 'protection',\n",
       " 'summit',\n",
       " 'air',\n",
       " 'nz',\n",
       " 'staff',\n",
       " 'aust']"
      ]
     },
     "execution_count": 26,
     "metadata": {},
     "output_type": "execute_result"
    }
   ],
   "source": [
    "# Check that this is now a single list and that the stop words have been removed\n",
    "abc_tokens_no_stopwords[:20]"
   ]
  },
  {
   "cell_type": "markdown",
   "metadata": {
    "collapsed": true
   },
   "source": [
    "Topic Modelling - Bag-of-words Word Counts"
   ]
  },
  {
   "cell_type": "code",
   "execution_count": 28,
   "metadata": {},
   "outputs": [
    {
     "data": {
      "text/plain": [
       "{'council': 16363,\n",
       " 'court': 16383,\n",
       " 'fire': 13908,\n",
       " 'govt': 16935,\n",
       " 'interview': 15025,\n",
       " 'man': 28109,\n",
       " 'new': 29087,\n",
       " 'police': 35985,\n",
       " 'says': 20001,\n",
       " 'us': 17536}"
      ]
     },
     "execution_count": 28,
     "metadata": {},
     "output_type": "execute_result"
    }
   ],
   "source": [
    "# Given the list of processed word tokens we can start analysing the data. \n",
    "# First we will use the basic method bag-of-words to find topics in the text data. This method counts the number ie frequency \n",
    "# of the the word tokens to identify the significant words. Let's first use the Counter function from collections package  across all years \n",
    "wordcount = dict(Counter(abc_tokens_no_stopwords).most_common(10))\n",
    "wordcount"
   ]
  },
  {
   "cell_type": "code",
   "execution_count": 29,
   "metadata": {},
   "outputs": [
    {
     "data": {
      "text/plain": [
       "dict_items([('police', 35985), ('new', 29087), ('man', 28109), ('says', 20001), ('us', 17536), ('govt', 16935), ('court', 16383), ('council', 16363), ('interview', 15025), ('fire', 13908)])"
      ]
     },
     "execution_count": 29,
     "metadata": {},
     "output_type": "execute_result"
    }
   ],
   "source": [
    "wordcount.items()"
   ]
  },
  {
   "cell_type": "code",
   "execution_count": 30,
   "metadata": {},
   "outputs": [
    {
     "data": {
      "text/html": [
       "<div>\n",
       "<style scoped>\n",
       "    .dataframe tbody tr th:only-of-type {\n",
       "        vertical-align: middle;\n",
       "    }\n",
       "\n",
       "    .dataframe tbody tr th {\n",
       "        vertical-align: top;\n",
       "    }\n",
       "\n",
       "    .dataframe thead th {\n",
       "        text-align: right;\n",
       "    }\n",
       "</style>\n",
       "<table border=\"1\" class=\"dataframe\">\n",
       "  <thead>\n",
       "    <tr style=\"text-align: right;\">\n",
       "      <th></th>\n",
       "      <th>Frequency</th>\n",
       "    </tr>\n",
       "  </thead>\n",
       "  <tbody>\n",
       "    <tr>\n",
       "      <th>police</th>\n",
       "      <td>35985</td>\n",
       "    </tr>\n",
       "    <tr>\n",
       "      <th>new</th>\n",
       "      <td>29087</td>\n",
       "    </tr>\n",
       "    <tr>\n",
       "      <th>man</th>\n",
       "      <td>28109</td>\n",
       "    </tr>\n",
       "    <tr>\n",
       "      <th>says</th>\n",
       "      <td>20001</td>\n",
       "    </tr>\n",
       "    <tr>\n",
       "      <th>us</th>\n",
       "      <td>17536</td>\n",
       "    </tr>\n",
       "    <tr>\n",
       "      <th>govt</th>\n",
       "      <td>16935</td>\n",
       "    </tr>\n",
       "    <tr>\n",
       "      <th>court</th>\n",
       "      <td>16383</td>\n",
       "    </tr>\n",
       "    <tr>\n",
       "      <th>council</th>\n",
       "      <td>16363</td>\n",
       "    </tr>\n",
       "    <tr>\n",
       "      <th>interview</th>\n",
       "      <td>15025</td>\n",
       "    </tr>\n",
       "    <tr>\n",
       "      <th>fire</th>\n",
       "      <td>13908</td>\n",
       "    </tr>\n",
       "  </tbody>\n",
       "</table>\n",
       "</div>"
      ],
      "text/plain": [
       "           Frequency\n",
       "police         35985\n",
       "new            29087\n",
       "man            28109\n",
       "says           20001\n",
       "us             17536\n",
       "govt           16935\n",
       "court          16383\n",
       "council        16363\n",
       "interview      15025\n",
       "fire           13908"
      ]
     },
     "execution_count": 30,
     "metadata": {},
     "output_type": "execute_result"
    }
   ],
   "source": [
    "# Prepare the data using pandas to be plotted with matplotlib package\n",
    "wordcount_df = pd.DataFrame.from_dict(wordcount,orient='index')\n",
    "wordcount_df.columns=['Frequency']\n",
    "wordcount_df"
   ]
  },
  {
   "cell_type": "code",
   "execution_count": 31,
   "metadata": {},
   "outputs": [
    {
     "data": {
      "text/plain": [
       "<matplotlib.axes._subplots.AxesSubplot at 0x15f5e136940>"
      ]
     },
     "execution_count": 31,
     "metadata": {},
     "output_type": "execute_result"
    },
    {
     "data": {
      "image/png": "[encoded data removed]",
      "text/plain": [
       "<matplotlib.figure.Figure at 0x15f5b044be0>"
      ]
     },
     "metadata": {},
     "output_type": "display_data"
    }
   ],
   "source": [
    "%matplotlib inline\n",
    "wordcount_df.plot(kind='barh')"
   ]
  },
  {
   "cell_type": "code",
   "execution_count": 32,
   "metadata": {},
   "outputs": [
    {
     "data": {
      "text/plain": [
       "[('police', 35985),\n",
       " ('new', 29087),\n",
       " ('man', 28109),\n",
       " ('says', 20001),\n",
       " ('us', 17536),\n",
       " ('govt', 16935),\n",
       " ('court', 16383),\n",
       " ('council', 16363),\n",
       " ('interview', 15025),\n",
       " ('fire', 13908)]"
      ]
     },
     "execution_count": 32,
     "metadata": {},
     "output_type": "execute_result"
    }
   ],
   "source": [
    "# Here we are calculating using the nltk function FreqDist.\n",
    "fdist =nltk.FreqDist(abc_tokens_no_stopwords)\n",
    "fdist.most_common(10)"
   ]
  },
  {
   "cell_type": "code",
   "execution_count": 33,
   "metadata": {},
   "outputs": [
    {
     "data": {
      "image/png": "[encoded data removed]",
      "text/plain": [
       "<matplotlib.figure.Figure at 0x15f5e284588>"
      ]
     },
     "metadata": {},
     "output_type": "display_data"
    }
   ],
   "source": [
    "# Plot the 10 most frequent terms using nltk.FreqDist and plot\n",
    "fdist.plot(10)"
   ]
  },
  {
   "cell_type": "code",
   "execution_count": 101,
   "metadata": {},
   "outputs": [
    {
     "data": {
      "image/png": "[encoded data removed]",
      "text/plain": [
       "<matplotlib.figure.Figure at 0x15f5e539da0>"
      ]
     },
     "metadata": {},
     "output_type": "display_data"
    }
   ],
   "source": [
    "# Create a wordcloud as an alternative to a chart to visualise frequent words. We will need to use the string format of the tokenized data\n",
    "# The default wordcloud looks different to the frequency tables above. https://amueller.github.io/word_cloud/generated/wordcloud.WordCloud.html#wordcloud.WordCloud.generate \n",
    "# \"The algorithm might give more weight to the ranking of the words than their actual frequencies, depending on the max_font_size and the scaling heuristic.\n",
    "\n",
    "import string\n",
    "newwords = {'say' ,'says', 'new'}\n",
    "wordcloud = WordCloud(width = 1024,\n",
    "                      height = 720, \n",
    "                      background_color=\"white\",\n",
    "                      max_words=100,\n",
    "                      stopwords=newwords,\n",
    "                      margin=0).generate(str(abc_tokens_no_stopwords).replace(\"'\", \"\"))\n",
    " \n",
    "# Display the generated image:\n",
    "%matplotlib inline\n",
    "plt.imshow(wordcloud)\n",
    "#plt.imshow(wordcloud, interpolation='bilinear')\n",
    "plt.axis(\"off\")\n",
    "plt.margins(x=0, y=0)\n",
    "plt.show()\n"
   ]
  },
  {
   "cell_type": "markdown",
   "metadata": {
    "collapsed": true
   },
   "source": [
    "Topic Modeling using tf-idf Model"
   ]
  },
  {
   "cell_type": "code",
   "execution_count": 36,
   "metadata": {
    "collapsed": true
   },
   "outputs": [],
   "source": [
    "# Next use gensim to create a dictionary on the tokenized sentences. gensim is a specialised ppackage for topic modeling\n",
    "dictionary = Dictionary(abc_tokens)"
   ]
  },
  {
   "cell_type": "code",
   "execution_count": 37,
   "metadata": {},
   "outputs": [
    {
     "data": {
      "text/plain": [
       "{0: 'aba',\n",
       " 1: 'against',\n",
       " 2: 'broadcasting',\n",
       " 3: 'community',\n",
       " 4: 'decides',\n",
       " 5: 'licence',\n",
       " 6: 'act',\n",
       " 7: 'aware',\n",
       " 8: 'be',\n",
       " 9: 'defamation'}"
      ]
     },
     "execution_count": 37,
     "metadata": {},
     "output_type": "execute_result"
    }
   ],
   "source": [
    "# Take a look at the top 10 dictionary items with the keys\n",
    "{k: dictionary[k] for k in sorted(dictionary.keys())[:10]}"
   ]
  },
  {
   "cell_type": "code",
   "execution_count": 38,
   "metadata": {
    "collapsed": true
   },
   "outputs": [],
   "source": [
    "# Create a MmCorpus: corpus\n",
    "corpus = [dictionary.doc2bow(article) for article in abc_tokens]"
   ]
  },
  {
   "cell_type": "code",
   "execution_count": 39,
   "metadata": {
    "collapsed": true
   },
   "outputs": [],
   "source": [
    "# There are some words that we might want to downweight in importance as they are commonly used words. \n",
    "# We can use the tf-idf model from gensim package\n",
    "tfidf =TfidfModel(corpus)"
   ]
  },
  {
   "cell_type": "code",
   "execution_count": 40,
   "metadata": {
    "collapsed": true
   },
   "outputs": [],
   "source": [
    "# Calculate the tfidf weights of the corpus: tfidf_weights\n",
    "tfidf_weights = tfidf[corpus]"
   ]
  },
  {
   "cell_type": "code",
   "execution_count": 41,
   "metadata": {},
   "outputs": [
    {
     "name": "stdout",
     "output_type": "stream",
     "text": [
      "<gensim.interfaces.TransformedCorpus object at 0x0000015F64ACD278>\n"
     ]
    }
   ],
   "source": [
    "print(tfidf_weights)"
   ]
  },
  {
   "cell_type": "markdown",
   "metadata": {
    "collapsed": true
   },
   "source": [
    "Named Entity Recognition using spaCy"
   ]
  },
  {
   "cell_type": "code",
   "execution_count": 43,
   "metadata": {
    "collapsed": true
   },
   "outputs": [],
   "source": [
    "# We can use spaCy to extract linguistic features like part-of-speech tags and  named entities\n",
    "# https://spacy.io/usage/linguistic-features"
   ]
  },
  {
   "cell_type": "code",
   "execution_count": 44,
   "metadata": {
    "collapsed": true
   },
   "outputs": [],
   "source": [
    "# First load the 'en' library\n",
    "nlp = en_core_web_sm.load()"
   ]
  },
  {
   "cell_type": "code",
   "execution_count": 94,
   "metadata": {
    "collapsed": true
   },
   "outputs": [],
   "source": [
    "# If we run the nlp function on the whole abctext, we get an error ValueError: [E088] Text of length 58712426 exceeds maximum of 1000000. \n",
    "# Therefore we will only run on a sample in this exercise\n",
    "doc=nlp(str(abctext[:100]))"
   ]
  },
  {
   "cell_type": "code",
   "execution_count": 95,
   "metadata": {},
   "outputs": [
    {
     "name": "stdout",
     "output_type": "stream",
     "text": [
      "[ [ PUNCT -LRB- punct [ False False\n",
      "' ' PUNCT `` punct ' False False\n",
      "aba aba NOUN NN nsubj xxx True False\n",
      "decides decide VERB VBZ ROOT xxxx True False\n",
      "against against ADP IN prep xxxx True True\n",
      "community community NOUN NN compound xxxx True False\n",
      "broadcasting broadcasting NOUN NN compound xxxx True False\n",
      "licence licence NOUN NN pobj xxxx True False\n",
      "' ' PUNCT `` punct ' False False\n",
      "\n",
      "  \n",
      "  SPACE _SP  \n",
      "  False False\n"
     ]
    }
   ],
   "source": [
    "# Take a look at the parts of speech tagging\n",
    "for token in doc[:10]:\n",
    "    print(token.text, token.lemma_, token.pos_, token.tag_, token.dep_,\n",
    "          token.shape_, token.is_alpha, token.is_stop)"
   ]
  },
  {
   "cell_type": "code",
   "execution_count": 98,
   "metadata": {},
   "outputs": [
    {
     "name": "stdout",
     "output_type": "stream",
     "text": [
      "CARDINAL four\n",
      "CARDINAL 10 million\n",
      "CARDINAL three\n",
      "CARDINAL four\n",
      "CARDINAL eight million\n",
      "CARDINAL 314\n",
      "CARDINAL more than 40\n"
     ]
    }
   ],
   "source": [
    "# Print all of the found CARDINAL entities and their labels\n",
    "for ent in doc.ents:\n",
    "    if ent.label_ == 'CARDINAL':\n",
    "        print(ent.label_, ent.text)"
   ]
  },
  {
   "cell_type": "code",
   "execution_count": 96,
   "metadata": {},
   "outputs": [
    {
     "name": "stdout",
     "output_type": "stream",
     "text": [
      "GPE kuwait\n"
     ]
    }
   ],
   "source": [
    "# Print all of the found GPE (country) entities and their labels\n",
    "for ent in doc.ents:\n",
    "    if ent.label_ == 'GPE':\n",
    "        print(ent.label_, ent.text)"
   ]
  },
  {
   "cell_type": "code",
   "execution_count": null,
   "metadata": {
    "collapsed": true
   },
   "outputs": [],
   "source": [
    "# Visualise the entity recogniser  which is using the downloaded 'en' model.  https://spacy.io/usage/visualizers\n",
    "# Note to improve the entity recogniser we would need to train a model.\n",
    "# This annoted html object does not display in iPython. \n",
    "displacy.render(doc, style='ent',jupyter=True)"
   ]
  }
 ],
 "metadata": {
  "kernelspec": {
   "display_name": "Python 3",
   "language": "python",
   "name": "python3"
  },
  "language_info": {
   "codemirror_mode": {
    "name": "ipython",
    "version": 3
   },
   "file_extension": ".py",
   "mimetype": "text/x-python",
   "name": "python",
   "nbconvert_exporter": "python",
   "pygments_lexer": "ipython3",
   "version": "3.6.3"
  }
 },
 "nbformat": 4,
 "nbformat_minor": 2
}
